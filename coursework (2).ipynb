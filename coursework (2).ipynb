{
 "cells": [
  {
   "cell_type": "markdown",
   "metadata": {},
   "source": [
    "# Bio722P Coding for Bioscientists Final Assignment, 2024/25"
   ]
  },
  {
   "cell_type": "markdown",
   "metadata": {},
   "source": [
    "This assignment counts towards 100% of the marks for this module. The assignment is divided into four questions, each carrying 25 marks."
   ]
  },
  {
   "cell_type": "markdown",
   "metadata": {},
   "source": [
    "## Student name and number\n",
    "Enter your full name and student number in the cell below"
   ]
  },
  {
   "cell_type": "markdown",
   "metadata": {},
   "source": [
    "full name: Japhet Mindana\n",
    "\n",
    "student number:200371300"
   ]
  },
  {
   "cell_type": "markdown",
   "metadata": {},
   "source": [
    "\n",
    "## Deadline and submission\n",
    "\n",
    "Complete this notebook with your code, compress it and submit it as a single .zip or .gz file through the QMPlus page by the following deadline:\n",
    "\n",
    "    Friday Nov 1rd 2023, 16:00\n",
    "\n",
    "\n",
    "## Submission checklist\n",
    "\n",
    "* Notebook is written in Python 3 and can be opened and run on the QMUL JupyterHub.\n",
    "* Any import statements are grouped in the cell provided at the end of this introduction; there should be no other import statements in the notebook.\n",
    "* Notebook functions pass all tests when cells are run with a fresh kernel from top to bottom.\n",
    "* Notebook only contains well commented answer code and the original tests. Please remove your own test code.\n",
    "* Notebook includes the full name and student number of the author.\n",
    "* Zip file containing the notebook is free from errors.\n",
    "\n",
    "Please refrain from editing the text of the assignment and the test code provided. Feel free to insert text or code cells as needed, but please clean up rough work that you do not wish to be marked.\n",
    "\n",
    "## Marking\n",
    "\n",
    "Your work will be marked **automatically**. Marks will be based on:\n",
    "\n",
    "        completeness and correctness: 100%\n",
    "        \n",
    "For automatic marking to function appropriately, each of your answers **must** pass the tests provided when running the notebook from top to bottom on a fresh kernel. Code that does not pass the tests or is not run (directly or indirectly, e.g. a function calling another function) by the functions you are asked to implement will **not** be marked.\n",
    "\n",
    "The test code provided with each question does **not** ensure that your submission is correct; it only ensures that it can be marked automatically. You will need to test your code independently for correctness; however, please remove your test code from your final submission, and do not submit any test data; the marking script will test your code with its own choice of data.\n",
    "\n",
    "## How to answer questions\n",
    "\n",
    "This assignment contains four questions, that can in principle be tackled in any order. However, we suggest that you answer Question 3 before attempting Question 4.\n",
    "\n",
    "Each question will require you to code a few functions or other code. As you progress through the subquestions, you may have to rely on your answer to previous subquestions to perform some operations. Please call the relevant functions and avoid duplicating code.  \n",
    "\n",
    "Do not remove or edit the comments at the top of the answer cells - marking scripts depend on them.\n",
    "\n",
    "\n",
    "## Use of libraries\n",
    "\n",
    "The assignment can be solved using built in functions and types, and we recommend that you do not use anything else. However, you are free to import any module or package from the Python standard library only. Third party or non-standard libraries (including Biopython) are **not** allowed."
   ]
  },
  {
   "cell_type": "code",
   "execution_count": 1,
   "metadata": {},
   "outputs": [],
   "source": [
    "# Please put any import statements here, according to the example.\n",
    "# Example:\n",
    "# import math # this would obviously be uncommented if you are importing the math library\n",
    "import os\n",
    "import os.path\n"
   ]
  },
  {
   "cell_type": "markdown",
   "metadata": {},
   "source": [
    "## Preliminary reading\n",
    "\n",
    "Please read the PDF file ```BIO722P_Assignment_Background.pdf``` distributed with this assigment carefully before you start coding."
   ]
  },
  {
   "cell_type": "markdown",
   "metadata": {},
   "source": [
    "## Question 1: Manipulating symbols"
   ]
  },
  {
   "cell_type": "markdown",
   "metadata": {},
   "source": [
    "## Question 1a\n",
    "\n",
    "Given the two lists defined below, containing the 3-letter codes of some aminoacids, write snippets of code as required the various subquestions.   Your code should work irrespective of the specific contents of lists ```aliphatic``` and ```aromatic```. Make sure to follow the instructions literally, any deviations (e.g. including additional ```print``` statements or assignments where you are not explicitly asked to do so) will lose you marks."
   ]
  },
  {
   "cell_type": "code",
   "execution_count": 36,
   "metadata": {},
   "outputs": [],
   "source": [
    "aliphatic=['Ala', 'Gly', 'Ile', 'Leu', 'Val']\n",
    "aromatic=['Phe', 'Trp', 'Tyr']"
   ]
  },
  {
   "cell_type": "markdown",
   "metadata": {},
   "source": [
    "### Question 1a (i) \n",
    "\n",
    "Use the slicing operator to create a copy of the list ```aliphatic``` in reverse order. Do not print or assign the result to any variable.\n"
   ]
  },
  {
   "cell_type": "code",
   "execution_count": 37,
   "metadata": {},
   "outputs": [
    {
     "data": {
      "text/plain": [
       "['Val', 'Leu', 'Ile', 'Gly', 'Ala']"
      ]
     },
     "execution_count": 37,
     "metadata": {},
     "output_type": "execute_result"
    }
   ],
   "source": [
    "# Q1a1_ans - Your answer here - do not edit this comment\n",
    "aliphatic=['Ala', 'Gly', 'Ile', 'Leu', 'Val']\n",
    "aliphatic[::-1]# prints in the reverse order\n"
   ]
  },
  {
   "cell_type": "markdown",
   "metadata": {},
   "source": [
    "### Question 1a (ii)\n",
    "\n",
    "Create a copy of the list ```aliphatic``` and call that ```am_acids```. Add to the list ```am_acids``` the elements of the ```aromatic``` list. Do all this in such a way that ```aliphatic``` is not modified."
   ]
  },
  {
   "cell_type": "code",
   "execution_count": 38,
   "metadata": {},
   "outputs": [],
   "source": [
    "# Q1a2_ans - Your answer here - do not edit this comment\n",
    "aliphatic=['Ala', 'Gly', 'Ile', 'Leu', 'Val']\n",
    "aromatic=['Phe', 'Trp', 'Tyr']\n",
    "am_acids=aliphatic[:]\n",
    "am_acids.extend(aromatic)\n",
    "\n"
   ]
  },
  {
   "cell_type": "code",
   "execution_count": 39,
   "metadata": {},
   "outputs": [
    {
     "name": "stdout",
     "output_type": "stream",
     "text": [
      "OK\n"
     ]
    }
   ],
   "source": [
    "# Your code should pass this test when run on a fresh kernel\n",
    "\n",
    "\n",
    "assert ('am_acids' in globals()), \"No variable named am_acids - check your spelling\"\n",
    "print(\"OK\")"
   ]
  },
  {
   "cell_type": "markdown",
   "metadata": {},
   "source": [
    "### Question 1a (iii)\n",
    "\n",
    "Sort the list ```am_acids``` in-place"
   ]
  },
  {
   "cell_type": "code",
   "execution_count": 40,
   "metadata": {},
   "outputs": [],
   "source": [
    "# Q1a3_ans - Your answer here - do not edit this comment\n",
    "am_acids.sort()\n"
   ]
  },
  {
   "cell_type": "markdown",
   "metadata": {},
   "source": [
    "### Question 1a (iv)\n",
    "\n",
    "Use a comprehension to build a list of all elements of list ```aromatic``` beginning with the character `'T'`."
   ]
  },
  {
   "cell_type": "code",
   "execution_count": 41,
   "metadata": {},
   "outputs": [],
   "source": [
    "# Q1a4_ans - Your answer here - do not edit this comment\n",
    "aromatic=['Phe', 'Trp', 'Tyr']\n",
    "T_aromatic=[t for t in aromatic if t.startswith(\"T\")]"
   ]
  },
  {
   "cell_type": "markdown",
   "metadata": {},
   "source": [
    "### Question 1a (v)\n",
    "\n",
    "Use a comprehension to build a list of strings, each including an element of ```aliphatic``` followed by '->' and by the first letter of the same element (example: ```\"Ala->A\"```)"
   ]
  },
  {
   "cell_type": "code",
   "execution_count": 42,
   "metadata": {},
   "outputs": [],
   "source": [
    "# Q1a5_ans - Your answer here - do not edit this comment\n",
    "aliphatic=['Ala', 'Gly', 'Ile', 'Leu', 'Val']\n",
    "aliphatic_first_letter = [a + '->' + a[0] for a in aliphatic]\n",
    "\n"
   ]
  },
  {
   "cell_type": "markdown",
   "metadata": {},
   "source": [
    "## Question 1b\n",
    "\n",
    "Answer the following sub questions, with reference to the two dictionaries defined below. These contain data for a few aminoacids; one-letter symbols act as keys, while key ```'hi'``` in the inner dictionaries is the hydropathy index (source: [wikipedia](https://en.wikipedia.org/wiki/Amino_acid)). Your code should not rely on the  specific contents of the ```neutral_aa``` and ```charged_aa``` dictionaries. Make sure to follow the instructions literally, any deviations (e.g. including additional ```print``` statements or assignments where you are not explicitly asked to do so) will lose you marks."
   ]
  },
  {
   "cell_type": "code",
   "execution_count": 43,
   "metadata": {},
   "outputs": [],
   "source": [
    "neutral_aa={'A': {'name': 'Alanine', 'hi': 1.8},\n",
    "            'N': {'name': 'Asparagine', 'hi': -3.5},\n",
    "            'C':  {'name': 'Cysteine', 'hi': 2.5},\n",
    "            'Q': {'name': 'Glutamine', 'hi': -3.5},\n",
    "            'G': {'name': 'Glycine', 'hi': -0.4},\n",
    "            'I': {'name': 'Isoleucine', 'hi': 4.5}}\n",
    "\n",
    "charged_aa={'R' : {'name': 'Arginine', 'hi': -4.5},\n",
    "            'E': {'name': 'Glutamate', 'hi': -3.5},\n",
    "            'K': {'name': 'Lysine', 'hi': -3.9}}"
   ]
  },
  {
   "cell_type": "markdown",
   "metadata": {},
   "source": [
    "### Question 1b (i) \n",
    "\n",
    "Add to the dictionary ```charged_aa``` the aminoacid Histidine,  with one-letter symbol H and hydropathy index equal to -3.2, using the same data structure as used for the other aminoacids."
   ]
  },
  {
   "cell_type": "code",
   "execution_count": 44,
   "metadata": {},
   "outputs": [],
   "source": [
    "# Q1b1_ans - Your answer here - do not edit this comment\n",
    "charged_aa={'R' : {'name': 'Arginine', 'hi': -4.5},\n",
    "            'E': {'name': 'Glutamate', 'hi': -3.5},\n",
    "            'K': {'name': 'Lysine', 'hi': -3.9}}\n",
    "\n",
    "charged_aa['H']={'name': 'Histidine', 'hi': -3.2}\n",
    "\n",
    "\n"
   ]
  },
  {
   "cell_type": "code",
   "execution_count": 45,
   "metadata": {},
   "outputs": [
    {
     "name": "stdout",
     "output_type": "stream",
     "text": [
      "OK\n"
     ]
    }
   ],
   "source": [
    "# Your code should pass this test when run on a fresh kernel\n",
    "assert charged_aa['H']['name']=='Histidine', \\\n",
    "        \"Element name not found - wrong data structure or spelling\"\n",
    "print(\"OK\")"
   ]
  },
  {
   "cell_type": "markdown",
   "metadata": {},
   "source": [
    "### Question 1b (ii) \n",
    "\n",
    "Create a dictionary named ```amino_dict```, and add to it the elements of ```neutral_aa``` and ```charged_aa```. Do not modify either ```neutral_aa``` or ```charged_aa``` in the process. Do not use loops to answer this question."
   ]
  },
  {
   "cell_type": "code",
   "execution_count": 46,
   "metadata": {},
   "outputs": [
    {
     "name": "stdout",
     "output_type": "stream",
     "text": [
      "{'A': {'name': 'Alanine', 'hi': 1.8}, 'N': {'name': 'Asparagine', 'hi': -3.5}, 'C': {'name': 'Cysteine', 'hi': 2.5}, 'Q': {'name': 'Glutamine', 'hi': -3.5}, 'G': {'name': 'Glycine', 'hi': -0.4}, 'I': {'name': 'Isoleucine', 'hi': 4.5}, 'R': {'name': 'Arginine', 'hi': -4.5}, 'E': {'name': 'Glutamate', 'hi': -3.5}, 'K': {'name': 'Lysine', 'hi': -3.9}, 'H': {'name': 'Histidine', 'hi': -3.2}}\n"
     ]
    }
   ],
   "source": [
    "# Q1b2_ans - Your answer here - do not edit this comment\n",
    "# dictionaries\n",
    "neutral_aa = {\n",
    "    'A': {'name': 'Alanine', 'hi': 1.8},\n",
    "    'N': {'name': 'Asparagine', 'hi': -3.5},\n",
    "    'C': {'name': 'Cysteine', 'hi': 2.5},\n",
    "    'Q': {'name': 'Glutamine', 'hi': -3.5},\n",
    "    'G': {'name': 'Glycine', 'hi': -0.4},\n",
    "    'I': {'name': 'Isoleucine', 'hi': 4.5}\n",
    "}\n",
    "\n",
    "charged_aa = {\n",
    "    'R': {'name': 'Arginine', 'hi': -4.5},\n",
    "    'E': {'name': 'Glutamate', 'hi': -3.5},\n",
    "    'K': {'name': 'Lysine', 'hi': -3.9},\n",
    "    'H': {'name': 'Histidine', 'hi': -3.2}\n",
    "}\n",
    "\n",
    "#  new empty dictionary\n",
    "amino_dict = {}\n",
    "\n",
    "# Add elements from neutral_aa\n",
    "amino_dict.update(neutral_aa)\n",
    "\n",
    "#Add elements from charged_aa\n",
    "amino_dict.update(charged_aa)\n",
    "\n"
   ]
  },
  {
   "cell_type": "markdown",
   "metadata": {},
   "source": [
    "### Question 1b (iii) \n",
    "\n",
    "Write a list comprehension that lists the full name of all aminoacids in ```amino_dict``` with hydropathy index lower than -3.3. Do not print or assign the result to any variable.\n"
   ]
  },
  {
   "cell_type": "code",
   "execution_count": 12,
   "metadata": {},
   "outputs": [
    {
     "name": "stdout",
     "output_type": "stream",
     "text": [
      "['Asparagine', 'Glutamine', 'Arginine', 'Glutamate', 'Lysine']\n"
     ]
    }
   ],
   "source": [
    "# Q1b3_ans - Your answer here - do not edit this comment\n",
    "amino_dict={\n",
    "    'A': {'name': 'Alanine', 'hi': 1.8},\n",
    "    'N': {'name': 'Asparagine', 'hi': -3.5},\n",
    "    'C': {'name': 'Cysteine', 'hi': 2.5},\n",
    "    'Q': {'name': 'Glutamine', 'hi': -3.5},\n",
    "    'G': {'name': 'Glycine', 'hi': -0.4},\n",
    "    'I': {'name': 'Isoleucine', 'hi': 4.5},\n",
    "    'R': {'name': 'Arginine', 'hi': -4.5},\n",
    "    'E': {'name': 'Glutamate', 'hi': -3.5},\n",
    "    'K': {'name': 'Lysine', 'hi': -3.9},\n",
    "    'H': {'name': 'Histidine', 'hi': -3.2}\n",
    "}\n",
    "\n",
    "amino_3_3=[amino_acid['name'] for amino_acid in amino_dict.values() if amino_acid['hi'] < -3.3]\n",
    "print(amino_3_3)\n"
   ]
  },
  {
   "cell_type": "markdown",
   "metadata": {},
   "source": [
    "### Question 1b (iv)\n",
    "\n",
    " Use a dictionary comprehension to create a dictionary with the symbols of all aminoacids in ```neutral_aa``` as keys, and their full names as values. Do not print or assign the result to any variable."
   ]
  },
  {
   "cell_type": "code",
   "execution_count": 48,
   "metadata": {},
   "outputs": [
    {
     "name": "stdout",
     "output_type": "stream",
     "text": [
      "{'A': 'Alanine', 'N': 'Asparagine', 'C': 'Cysteine', 'Q': 'Glutamine', 'G': 'Glycine', 'I': 'Isoleucine'}\n"
     ]
    }
   ],
   "source": [
    "# Q1b4_ans - Your answer here - do not edit this comment\n",
    "amino_dict={\n",
    "    'A': {'name': 'Alanine', 'hi': 1.8},\n",
    "    'N': {'name': 'Asparagine', 'hi': -3.5},\n",
    "    'C': {'name': 'Cysteine', 'hi': 2.5},\n",
    "    'Q': {'name': 'Glutamine', 'hi': -3.5},\n",
    "    'G': {'name': 'Glycine', 'hi': -0.4},\n",
    "    'I': {'name': 'Isoleucine', 'hi': 4.5},\n",
    "    'R': {'name': 'Arginine', 'hi': -4.5},\n",
    "    'E': {'name': 'Glutamate', 'hi': -3.5},\n",
    "    'K': {'name': 'Lysine', 'hi': -3.9},\n",
    "    'H': {'name': 'Histidine', 'hi': -3.2}\n",
    "}\n",
    "\n",
    "amino={amino_acid_symbol: details['name'] for amino_acid_symbol, details in neutral_aa.items()}\n"
   ]
  },
  {
   "cell_type": "markdown",
   "metadata": {},
   "source": [
    "# Question 2: Translation and reading frames"
   ]
  },
  {
   "cell_type": "markdown",
   "metadata": {},
   "source": [
    "### Question 2.a: Reading frames\n",
    "Write a function ```translate``` that takes a string containing a DNA sequence as its input and outputs a Python dictionary containing the translation of the sequence in all possible reading frames. The keys of the dictionary should be ```f1```, ```f2```, ```f3``` for the three forward frames and ```r1```, ```r2``` and ```r3``` for the reverse reading frames; the value of each key should be the translation of the sequence in the corresponding frame.\n",
    "For simplicity and ease of debugging, **do not complement the sequence** when computing the reverse reading frames; just reverse it. Use an asterisk (```*```) to represent stop codons. Always translate the entire sequence."
   ]
  },
  {
   "cell_type": "code",
   "execution_count": 60,
   "metadata": {},
   "outputs": [],
   "source": [
    "# Q2a_ans - Your answer here - do not edit this comment\n",
    "def trim_to_multiple_of_three(dna):\n",
    "    return dna[:len(dna) - len(dna) % 3]\n",
    "\n",
    "def translate_frame(dna, codon_map):\n",
    "    amino_acids = \"\"\n",
    "    for i in range(0, len(dna), 3):\n",
    "        codon = dna[i:i+3]\n",
    "        amino_acids += next((aa for aa, codons in codon_map.items() if codon in codons), \"\")\n",
    "    return amino_acids\n",
    "\n",
    "def translate(dna):\n",
    "    dna = dna.upper()\n",
    "    codon_map = {\n",
    "        \"F\": [\"TTT\", \"TTC\"], \"L\": [\"TTA\", \"TTG\", \"CTT\", \"CTC\", \"CTA\", \"CTG\"],\n",
    "        \"I\": [\"ATT\", \"ATC\", \"ATA\"], \"M\": [\"ATG\"], \"V\": [\"GTT\", \"GTC\", \"GTA\", \"GTG\"],\n",
    "        \"S\": [\"TCT\", \"TCC\", \"TCA\", \"TCG\", \"AGT\", \"AGC\"], \"P\": [\"CCT\", \"CCC\", \"CCA\", \"CCG\"],\n",
    "        \"T\": [\"ACT\", \"ACC\", \"ACA\", \"ACG\"], \"A\": [\"GCT\", \"GCC\", \"GCA\", \"GCG\"],\n",
    "        \"Y\": [\"TAT\", \"TAC\"], \"*\": [\"TAA\", \"TAG\", \"TGA\"], \"H\": [\"CAT\", \"CAC\"],\n",
    "        \"Q\": [\"CAA\", \"CAG\"], \"N\": [\"AAT\", \"AAC\"], \"K\": [\"AAA\", \"AAG\"],\n",
    "        \"D\": [\"GAT\", \"GAC\"], \"E\": [\"GAA\", \"GAG\"], \"C\": [\"TGT\", \"TGC\"],\n",
    "        \"W\": [\"TGG\"], \"R\": [\"CGT\", \"CGC\", \"CGA\", \"CGG\", \"AGA\", \"AGG\"],\n",
    "        \"G\": [\"GGT\", \"GGC\", \"GGA\", \"GGG\"]\n",
    "    }\n",
    "\n",
    "    # Forward frames and reverse frames\n",
    "    frames = {\n",
    "        \"f1\": dna, \"f2\": dna[1:], \"f3\": dna[2:],\n",
    "        \"r1\": dna[::-1], \"r2\": dna[::-1][1:], \"r3\": dna[::-1][2:]\n",
    "    }\n",
    "\n",
    "    # Translate all frames\n",
    "    return {frame: translate_frame(trim_to_multiple_of_three(seq), codon_map) for frame, seq in frames.items()}\n",
    "\n"
   ]
  },
  {
   "cell_type": "code",
   "execution_count": 50,
   "metadata": {},
   "outputs": [
    {
     "name": "stdout",
     "output_type": "stream",
     "text": [
      "OK\n"
     ]
    }
   ],
   "source": [
    "# Test code\n",
    "_seqdic=translate(\"ACTGACTGACTGACTGACTGACTG\")\n",
    "assert type(_seqdic)==type(dict()), \"Return value is not a dictionary: %r\" % _seqdic\n",
    "assert set(_seqdic.keys())==set(['f1', 'f2', 'f3', 'r1', 'r2', 'r3']), \\\n",
    "    \"Output dictionary has incorrect keys: %r\"  % _seqdic.keys()\n",
    "assert type(_seqdic['f1'])==type(\"\"), \\\n",
    "    \"Output dictionary values should be strings, not %r\" % type(_seqdic['f1'])\n",
    "print(\"OK\")"
   ]
  },
  {
   "cell_type": "markdown",
   "metadata": {},
   "source": [
    "### Question 2.b: Locating an ORF\n",
    "\n",
    "Write a function called ```openReadingFrame``` that takes a string containing an aminoacid sequence as its argument and returns a string containing the aminoacids between the first Methionine (included) and the first STOP codon that follows it (excluded). Assume the stop codon is represented by an asterisk (```*```) as would be returned by ```translate``` above. If either the Methionine or the STOP codon are missing, your function should return an empty string."
   ]
  },
  {
   "cell_type": "code",
   "execution_count": 62,
   "metadata": {},
   "outputs": [],
   "source": [
    "# Q2b_ans - Your answer here - do not edit this comment\n",
    "def openReadingFrame(aminos):\n",
    "    if \"M\" not in aminos or \"*\" not in aminos:  # Check if both 'M' and '*' exist\n",
    "        return \"\"\n",
    "\n",
    "    start = aminos.index(\"M\")  # Find first 'M'\n",
    "    stop = aminos.find(\"*\", start)  # Find the first '*' after the 'M'\n",
    "\n",
    "    # Return the substring from 'M' to just before '*', or an empty string if '*' isn't found\n",
    "    return aminos[start:stop] if stop > start else \"\"\n",
    "\n",
    " \n",
    "  "
   ]
  },
  {
   "cell_type": "code",
   "execution_count": 63,
   "metadata": {},
   "outputs": [
    {
     "name": "stdout",
     "output_type": "stream",
     "text": [
      "OK\n"
     ]
    }
   ],
   "source": [
    "# Test code\n",
    "_seq=openReadingFrame(\"AMCAPP*L\")\n",
    "assert type(_seq) is type(\"\"), \"Return value is not a string: %r\" % _seq\n",
    "print(\"OK\")"
   ]
  },
  {
   "cell_type": "markdown",
   "metadata": {},
   "source": [
    "### Question 2.c: Translating a sequence\n",
    "\n",
    "Write a function called ```candidateProtein``` that takes a string containing a DNA sequence as its input and outputs the string of aminoacids corresponding to the longest ORF, as extracted by ```openReadingFrame``` above."
   ]
  },
  {
   "cell_type": "code",
   "execution_count": 3,
   "metadata": {},
   "outputs": [],
   "source": [
    "# Q2c_ans -\n",
    "# Helper functions\n",
    "def trim_to_multiple_of_three(dna):\n",
    "    return dna[:len(dna) - len(dna) % 3]\n",
    "\n",
    "def translate_frame(dna, codon_map):\n",
    "    amino_acids = \"\"\n",
    "    for i in range(0, len(dna), 3):\n",
    "        codon = dna[i:i+3]\n",
    "        amino_acids += next((aa for aa, codons in codon_map.items() if codon in codons), \"\")\n",
    "    return amino_acids\n",
    "\n",
    "def translate(dna):\n",
    "    dna = dna.upper()\n",
    "    codon_map = {\n",
    "        \"F\": [\"TTT\", \"TTC\"], \"L\": [\"TTA\", \"TTG\", \"CTT\", \"CTC\", \"CTA\", \"CTG\"],\n",
    "        \"I\": [\"ATT\", \"ATC\", \"ATA\"], \"M\": [\"ATG\"], \"V\": [\"GTT\", \"GTC\", \"GTA\", \"GTG\"],\n",
    "        \"S\": [\"TCT\", \"TCC\", \"TCA\", \"TCG\", \"AGT\", \"AGC\"], \"P\": [\"CCT\", \"CCC\", \"CCA\", \"CCG\"],\n",
    "        \"T\": [\"ACT\", \"ACC\", \"ACA\", \"ACG\"], \"A\": [\"GCT\", \"GCC\", \"GCA\", \"GCG\"],\n",
    "        \"Y\": [\"TAT\", \"TAC\"], \"*\": [\"TAA\", \"TAG\", \"TGA\"], \"H\": [\"CAT\", \"CAC\"],\n",
    "        \"Q\": [\"CAA\", \"CAG\"], \"N\": [\"AAT\", \"AAC\"], \"K\": [\"AAA\", \"AAG\"],\n",
    "        \"D\": [\"GAT\", \"GAC\"], \"E\": [\"GAA\", \"GAG\"], \"C\": [\"TGT\", \"TGC\"],\n",
    "        \"W\": [\"TGG\"], \"R\": [\"CGT\", \"CGC\", \"CGA\", \"CGG\", \"AGA\", \"AGG\"],\n",
    "        \"G\": [\"GGT\", \"GGC\", \"GGA\", \"GGG\"]\n",
    "    }\n",
    "\n",
    "    frames = {\n",
    "        \"f1\": dna, \"f2\": dna[1:], \"f3\": dna[2:],\n",
    "        \"r1\": dna[::-1], \"r2\": dna[::-1][1:], \"r3\": dna[::-1][2:]\n",
    "    }\n",
    "\n",
    "    return {frame: translate_frame(trim_to_multiple_of_three(seq), codon_map) for frame, seq in frames.items()}\n",
    "\n",
    "def openReadingFrame(aminos):\n",
    "    if \"M\" not in aminos or \"*\" not in aminos:\n",
    "        return \"\"\n",
    "\n",
    "    start = aminos.index(\"M\")\n",
    "    stop = aminos.find(\"*\", start)\n",
    "\n",
    "    return aminos[start:stop] if stop > start else \"\"\n",
    "\n",
    "# Main function\n",
    "def candidateProtein(dna):\n",
    "    frames_dict = translate(dna)\n",
    "    longest_orf = \"\"\n",
    "\n",
    "    for frame in frames_dict.values():\n",
    "        orf = openReadingFrame(frame)\n",
    "        if len(orf) > len(longest_orf):\n",
    "            longest_orf = orf\n",
    "    \n",
    "    return longest_orf\n"
   ]
  },
  {
   "cell_type": "code",
   "execution_count": 4,
   "metadata": {},
   "outputs": [
    {
     "name": "stdout",
     "output_type": "stream",
     "text": [
      "OK\n"
     ]
    }
   ],
   "source": [
    "# Test code\n",
    "_seq=candidateProtein(\"ATGACTGCTGGGTAG\")\n",
    "assert type(_seq) is type(\"\"), \"Return value is not a string: %r\" % _seq\n",
    "print(\"OK\")"
   ]
  },
  {
   "cell_type": "markdown",
   "metadata": {},
   "source": [
    "### Question 2.d: Reading a FASTA file\n",
    "\n",
    "Write a function called ```readFASTAseq``` that takes as its argument the name of a file.  When passed the name of a FASTA file containing a single sequence, the function should read the file, discard the header and return the sequence as an uppercase string.\n",
    "(**NOTE**: This subquestion is shared with Question 3 and will be marked as part of Question 3)."
   ]
  },
  {
   "cell_type": "code",
   "execution_count": 2,
   "metadata": {},
   "outputs": [],
   "source": [
    "# Q2d_ans - Your answer here - do not edit this comment\n",
    "def readFASTAseq(filename):\n",
    "    # Open the file in read mode\n",
    "    file = open(filename, 'r')\n",
    "    \n",
    "    # Read all lines in the file, skipping the header line (first line)\n",
    "    lines = file.readlines()[1:]\n",
    "    \n",
    "    # Close the file\n",
    "    file.close()\n",
    "    \n",
    "    # Join lines into a single sequence removing newline characters, and convert to uppercase\n",
    "    sequence = ''.join(line.strip() for line in lines).upper()\n",
    "    \n",
    "    # Return the sequence\n",
    "    return sequence\n"
   ]
  },
  {
   "cell_type": "code",
   "execution_count": 3,
   "metadata": {},
   "outputs": [
    {
     "name": "stdout",
     "output_type": "stream",
     "text": [
      "OK\n"
     ]
    }
   ],
   "source": [
    "# Test code\n",
    "import os\n",
    "with open(\"test9876345.fas\", \"wt\") as _OUTF:\n",
    "    _OUTF.write(\"> test\\n\")\n",
    "    _OUTF.write(\"ACGT\\n\")\n",
    "_seq=readFASTAseq(\"test9876345.fas\")\n",
    "assert type(_seq) is type(\"\"), \"Return value is not a string: %r\" % _seq\n",
    "os.remove(\"test9876345.fas\")\n",
    "print(\"OK\")"
   ]
  },
  {
   "cell_type": "markdown",
   "metadata": {},
   "source": [
    "### Question 2.e: Writing a FASTA file\n",
    "\n",
    "Write a function called ```writeFASTA``` that takes three string arguments called, in the order, ```sequence```, ```description``` and ```filename```. Argument ```sequence``` should contain an aminoacid sequence. Argument ```description``` should contain a description (eg name of protein, organism, etc). Argument ```filename``` should contain a file name. Your code should create the file with the name requested, write to  it the description as a FASTA header (i.e. starting with the character ```>```) and write the sequence to the file. Long sequences should be formatted over several lines. The function should not return any value."
   ]
  },
  {
   "cell_type": "code",
   "execution_count": 4,
   "metadata": {},
   "outputs": [],
   "source": [
    "# Q2e_ans - Your answer here - do not edit this comment\n",
    "\n",
    "def writeFASTA(sequence, description, filename):\n",
    "    \"\"\"\n",
    "    Load a sequence to a file in FASTA format.\n",
    "\n",
    "    Parameters:\n",
    "    sequence must be an Amino acid or nucleotide sequence (string)\n",
    "    Description of the sequence (e.g., name, organism).\n",
    "    filename (str): Name of the file to write the sequence to.\n",
    "\n",
    "    Returns:\n",
    "    None\n",
    "    \"\"\"\n",
    "    # Open file in write mode\n",
    "    with open(filename, 'w') as file:\n",
    "        # Write the description as a FASTA header (starting with \">\")\n",
    "        file.write(f\">{description}\\n\")\n",
    "        \n",
    "        # Write the sequence in lines of 60 characters for readability\n",
    "        for i in range(0, len(sequence), 60):\n",
    "            file.write(sequence[i:i+60] + \"\\n\")\n",
    "\n"
   ]
  },
  {
   "cell_type": "code",
   "execution_count": 5,
   "metadata": {},
   "outputs": [
    {
     "name": "stdout",
     "output_type": "stream",
     "text": [
      "OK\n"
     ]
    }
   ],
   "source": [
    "# Test code\n",
    "import os\n",
    "import os.path\n",
    "_rv=writeFASTA(sequence=\"TESTTESTTESTTESTTEST\",\n",
    "              description=\"test sequence\",\n",
    "              filename=\"test9876347.fas\")\n",
    "assert type(_rv) is type(None), \"Function should not return anything; it returns %r\" % _rv\n",
    "_fe=os.path.isfile(\"test9876347.fas\")\n",
    "assert _fe, \"Cannot find output file - has it been created?\"\n",
    "os.remove(\"test9876347.fas\")\n",
    "print(\"OK\")"
   ]
  },
  {
   "cell_type": "markdown",
   "metadata": {},
   "source": [
    "### Question 2.f: Putting it all together\n",
    "\n",
    "\n",
    "Write a function called ```maximalORF``` that takes as its argument string ```inputfile``` containing the name of an input file, string ```outputfile``` with the name of an output file and string  ```proteinname``` with a description of a candidate protein. The function should read a DNA sequence from the input file and write the candidate protein corresponding to the longest ORF to the output file, in FASTA format. The string supplied in ```proteinname``` should provide the header of the FASTA file. The function should not return any value."
   ]
  },
  {
   "cell_type": "code",
   "execution_count": 6,
   "metadata": {},
   "outputs": [],
   "source": [
    "# Q2f_ans - Your answer here - do not edit this comment\n",
    "\n",
    "def maximalORF(inputfile, outputfile, proteinname):\n",
    "    # Read the DNA sequence from the input FASTA file\n",
    "    DNA_sequence = readDNAsequence(inputfile)\n",
    "    \n",
    "    # Identify the longest open reading frame (ORF) as a protein sequence\n",
    "    longest_protein_sequence = candidateProtein(DNA_sequence)\n",
    "    \n",
    "    # Write the longest ORF in FASTA format to the output file with the given protein name as the header\n",
    "    writeFASTA(longest_protein_sequence, proteinname, outputfile)\n",
    "\n"
   ]
  },
  {
   "cell_type": "code",
   "execution_count": 7,
   "metadata": {},
   "outputs": [
    {
     "ename": "NameError",
     "evalue": "name 'readDNAsequence' is not defined",
     "output_type": "error",
     "traceback": [
      "\u001b[0;31m---------------------------------------------------------------------------\u001b[0m",
      "\u001b[0;31mNameError\u001b[0m                                 Traceback (most recent call last)",
      "Cell \u001b[0;32mIn[7], line 7\u001b[0m\n\u001b[1;32m      5\u001b[0m     _OUTF\u001b[38;5;241m.\u001b[39mwrite(\u001b[38;5;124m\"\u001b[39m\u001b[38;5;124m> test\u001b[39m\u001b[38;5;130;01m\\n\u001b[39;00m\u001b[38;5;124m\"\u001b[39m)\n\u001b[1;32m      6\u001b[0m     _OUTF\u001b[38;5;241m.\u001b[39mwrite(\u001b[38;5;124m\"\u001b[39m\u001b[38;5;124mATGACTGCTGGGTAG\u001b[39m\u001b[38;5;130;01m\\n\u001b[39;00m\u001b[38;5;124m\"\u001b[39m)\n\u001b[0;32m----> 7\u001b[0m _rv\u001b[38;5;241m=\u001b[39m\u001b[43mmaximalORF\u001b[49m\u001b[43m(\u001b[49m\u001b[43minputfile\u001b[49m\u001b[38;5;241;43m=\u001b[39;49m\u001b[38;5;124;43m\"\u001b[39;49m\u001b[38;5;124;43mtest9876348.fas\u001b[39;49m\u001b[38;5;124;43m\"\u001b[39;49m\u001b[43m,\u001b[49m\u001b[43m \u001b[49m\u001b[43moutputfile\u001b[49m\u001b[38;5;241;43m=\u001b[39;49m\u001b[38;5;124;43m\"\u001b[39;49m\u001b[38;5;124;43mtest9876349.fas\u001b[39;49m\u001b[38;5;124;43m\"\u001b[39;49m\u001b[43m,\u001b[49m\n\u001b[1;32m      8\u001b[0m \u001b[43m               \u001b[49m\u001b[43mproteinname\u001b[49m\u001b[38;5;241;43m=\u001b[39;49m\u001b[38;5;124;43m\"\u001b[39;49m\u001b[38;5;124;43mtest protein\u001b[39;49m\u001b[38;5;124;43m\"\u001b[39;49m\u001b[43m)\u001b[49m\n\u001b[1;32m      9\u001b[0m \u001b[38;5;28;01massert\u001b[39;00m \u001b[38;5;28mtype\u001b[39m(_rv) \u001b[38;5;129;01mis\u001b[39;00m \u001b[38;5;28mtype\u001b[39m(\u001b[38;5;28;01mNone\u001b[39;00m), \u001b[38;5;124m\"\u001b[39m\u001b[38;5;124mFunction should not return anything; it returns \u001b[39m\u001b[38;5;132;01m%r\u001b[39;00m\u001b[38;5;124m\"\u001b[39m \u001b[38;5;241m%\u001b[39m _rv\n\u001b[1;32m     10\u001b[0m _fe\u001b[38;5;241m=\u001b[39mos\u001b[38;5;241m.\u001b[39mpath\u001b[38;5;241m.\u001b[39misfile(\u001b[38;5;124m\"\u001b[39m\u001b[38;5;124mtest9876349.fas\u001b[39m\u001b[38;5;124m\"\u001b[39m)\n",
      "Cell \u001b[0;32mIn[6], line 5\u001b[0m, in \u001b[0;36mmaximalORF\u001b[0;34m(inputfile, outputfile, proteinname)\u001b[0m\n\u001b[1;32m      3\u001b[0m \u001b[38;5;28;01mdef\u001b[39;00m \u001b[38;5;21mmaximalORF\u001b[39m(inputfile, outputfile, proteinname):\n\u001b[1;32m      4\u001b[0m     \u001b[38;5;66;03m# Read the DNA sequence from the input FASTA file\u001b[39;00m\n\u001b[0;32m----> 5\u001b[0m     DNA_sequence \u001b[38;5;241m=\u001b[39m \u001b[43mreadDNAsequence\u001b[49m(inputfile)\n\u001b[1;32m      7\u001b[0m     \u001b[38;5;66;03m# Identify the longest open reading frame (ORF) as a protein sequence\u001b[39;00m\n\u001b[1;32m      8\u001b[0m     longest_protein_sequence \u001b[38;5;241m=\u001b[39m candidateProtein(DNA_sequence)\n",
      "\u001b[0;31mNameError\u001b[0m: name 'readDNAsequence' is not defined"
     ]
    }
   ],
   "source": [
    "# Test code\n",
    "import os\n",
    "import os.path\n",
    "with open(\"test9876348.fas\", \"wt\") as _OUTF:\n",
    "    _OUTF.write(\"> test\\n\")\n",
    "    _OUTF.write(\"ATGACTGCTGGGTAG\\n\")\n",
    "_rv=maximalORF(inputfile=\"test9876348.fas\", outputfile=\"test9876349.fas\",\n",
    "               proteinname=\"test protein\")\n",
    "assert type(_rv) is type(None), \"Function should not return anything; it returns %r\" % _rv\n",
    "_fe=os.path.isfile(\"test9876349.fas\")\n",
    "assert _fe, \"Cannot find output file - has it been created?\"\n",
    "os.remove(\"test9876348.fas\")\n",
    "os.remove(\"test9876349.fas\")\n",
    "print(\"OK\")"
   ]
  },
  {
   "cell_type": "markdown",
   "metadata": {},
   "source": [
    "# Question 3: Classification of aminoacids"
   ]
  },
  {
   "cell_type": "markdown",
   "metadata": {},
   "source": [
    "### Question 3.a: Reading a FASTA file\n",
    "\n",
    "Write a function called ```readFASTAseq``` that takes as its argument the name of a file.  When passed the name of a FASTA file containing a single sequence, the function should read the file, discard the header and return the sequence as an uppercase string."
   ]
  },
  {
   "cell_type": "code",
   "execution_count": 72,
   "metadata": {},
   "outputs": [],
   "source": [
    "# Q3a_ans - Your answer here - do not edit this comment\n",
    "\n",
    "# NOTE: if you have already written this function as part of Q2(d) above,\n",
    "# leave this cell as is. Marks will in any case be credited to \n",
    "# this question. If you include a new definition here, it will override\n",
    "# the one given in Q2(d) above for the purpose of marking both questions.\n",
    "#I have completed this question 2d\n",
    "\n"
   ]
  },
  {
   "cell_type": "code",
   "execution_count": 73,
   "metadata": {},
   "outputs": [
    {
     "name": "stdout",
     "output_type": "stream",
     "text": [
      "OK\n"
     ]
    }
   ],
   "source": [
    "# Test code\n",
    "import os\n",
    "with open(\"test9876350.fas\", \"wt\") as _OUTF:\n",
    "    _OUTF.write(\"> test\\n\")\n",
    "    _OUTF.write(\"TESTTESTTESTTESTTEST\\n\")\n",
    "_seq=readFASTAseq(\"test9876350.fas\")\n",
    "os.remove(\"test9876350.fas\")\n",
    "assert type(_seq) is type(\"\"), \"Return value is not a string: %r\" % _seq\n",
    "print (\"OK\")"
   ]
  },
  {
   "cell_type": "markdown",
   "metadata": {},
   "source": [
    "### Question 3.b: Aminoacid usage statistics\n",
    "\n",
    "Write a function called ```AAtypes``` that takes as its argument a string containing a sequence of aminoacids. The function should compute, for each protein, the fraction of aminoacids that are polar, small and hydrophobic and return that as a list. For instance, if the chain of a protein contains 35% polar residues, 15% small and 50% hydrophobic residues, the function should return ```[0.35, 0.15, 0.5]``` (the order is important). Refer to the Venn diagram in the Assessment Background file for the classification of aminoacids (other Venn diagrams may differ).  Note that some aminoacids belong to more than one category, so that the sum of these three numbers can be larger than 1."
   ]
  },
  {
   "cell_type": "code",
   "execution_count": 3,
   "metadata": {},
   "outputs": [],
   "source": [
    "# Q3b_ans - Your answer here - do not edit this comment\n",
    "\n",
    "def AAtypes(aaseq):\n",
    "    # Convert the input sequence to uppercase\n",
    "    aaseq = aaseq.upper()\n",
    "\n",
    "    # Amino acid categories based on background Venn diagram\n",
    "    category_dict = {\n",
    "        \"polar\": [\"C\", \"S\", \"T\", \"N\", \"D\", \"Q\", \"E\", \"Y\", \"K\", \"H\", \"R\", \"W\"],\n",
    "        \"small\": [\"P\", \"A\", \"G\", \"V\", \"C\", \"S\", \"T\", \"N\", \"D\"],\n",
    "        \"hydrophobic\": [\"A\", \"I\", \"V\", \"C\", \"L\", \"T\", \"M\", \"Y\", \"H\", \"K\", \"F\", \"W\"]\n",
    "    }\n",
    "\n",
    "    # counters for each category\n",
    "    polar_count = sum(1 for aa in aaseq if aa in category_dict[\"polar\"])\n",
    "    small_count = sum(1 for aa in aaseq if aa in category_dict[\"small\"])\n",
    "    hydrophobic_count = sum(1 for aa in aaseq if aa in category_dict[\"hydrophobic\"])\n",
    "\n",
    "    # Calculate the fraction for each category\n",
    "    total_length = len(aaseq)\n",
    "    polar_fraction = polar_count / total_length\n",
    "    small_fraction = small_count / total_length\n",
    "    hydrophobic_fraction = hydrophobic_count / total_length\n",
    "\n",
    "    # Return the list with fractions in the specified order\n",
    "    return [polar_fraction, small_fraction, hydrophobic_fraction]\n",
    "\n"
   ]
  },
  {
   "cell_type": "code",
   "execution_count": 4,
   "metadata": {},
   "outputs": [
    {
     "name": "stdout",
     "output_type": "stream",
     "text": [
      "OK\n"
     ]
    }
   ],
   "source": [
    "# Test code\n",
    "_aatypes=AAtypes(\"TESTTESTTESTTESTTEST\")\n",
    "assert type(_aatypes) is type([]), \"Return value is not a list: %r\" % _aatypes\n",
    "assert len(_aatypes)==3, \"Returned list should contain 3 values\"\n",
    "print(\"OK\")"
   ]
  },
  {
   "cell_type": "markdown",
   "metadata": {},
   "source": [
    "### Question 3.c: Processing multiple sequences\n",
    "Write a function called ```AAtypetable``` that takes a list of strings called ```filelist``` and a separate string called ```outputfile```. Each element of ```filelist``` represents the name of a FASTA file containing an aminoacid sequence. For each filename, the function should load the sequence, compute the fraction of aminoacids that are polar, small and/or hydrophobic, and finally output this to the text file specified by ```outputfile``` in CSV (comma-separated values) tabular format. The table should contain, on each line, the name of the input file and then the percentages of polar, small and hydrophobic residues (in that order). Include a comment at the beginning of the file that starts with a ```#``` and specifies the content of each column, as follows (numbers and file names shown here are random):\n",
    "```\n",
    "# Filename,Polar,Small,Hydrophobic\n",
    "Pxxx.fasta,0.52,0.22,0.33\n",
    "Qx3Z.fas,0.47,0.35,0.38\n",
    "...\n",
    "```\n",
    "\n",
    "Include at least two decimal places in your output; do not add any quotes or other spurious characters. If some of the files in ```filelist``` do not exist, contain invalid data or otherwise cause an error, your function should ignore those files and continue. However, the names of those files should be returned by your function in a list. If all files are processed without errors your function should return an empty list.\n"
   ]
  },
  {
   "cell_type": "code",
   "execution_count": 1,
   "metadata": {},
   "outputs": [],
   "source": [
    "# Q3c_ans - Your answer here - do not edit this comment\n",
    "import os\n",
    "\n",
    "def AAtypetable(filelist, outputfile):\n",
    "    problemlist = []  # List to store problematic files\n",
    "    valid_files = []  # List to store names of valid files\n",
    "    valid_sequences = []  # List to store valid sequences corresponding to valid files\n",
    "    characters = \"FLIMVSPTAYHQNKDECWRG\"  # Acceptable amino acid characters\n",
    "\n",
    "    #  Check file existence and validate contents\n",
    "    for filename in filelist:\n",
    "        if not os.path.exists(filename):  # Check if file exists\n",
    "            problemlist.append(filename)  # Add to problem list if file does not exist\n",
    "            continue\n",
    "        \n",
    "        try:\n",
    "            # Assume read sequence is a function that reads the sequence from the file\n",
    "            sequence = readAAsequence(filename)\n",
    "            \n",
    "            # Check for valid characters in the sequence\n",
    "            valid = True\n",
    "            for char in sequence:\n",
    "                if char not in characters:\n",
    "                    valid = False\n",
    "                    break\n",
    "            \n",
    "            if valid:\n",
    "                valid_files.append(filename)  # Add file name to valid list\n",
    "                valid_sequences.append(sequence)  # Add sequence to valid sequences list\n",
    "            else:\n",
    "                problemlist.append(filename)  # Add to problem list if sequence contains invalid characters\n",
    "\n",
    "        except Exception:\n",
    "            # If an error occurs, add the file to the problem list\n",
    "            problemlist.append(filename)\n",
    "\n",
    "    # Write output file with results in CSV format\n",
    "    with open(outputfile, \"wt\") as file:\n",
    "        # Write header as a comment\n",
    "        file.write(\"# Filename,Polar,Small,Hydrophobic\\n\")\n",
    "\n",
    "        # Process each valid sequence and write results to the output file\n",
    "        for i in range(len(valid_files)):\n",
    "            filename = valid_files[i]\n",
    "            sequence = valid_sequences[i]\n",
    "            \n",
    "            try:\n",
    "                # Calculate the fractions using the AAtypes function\n",
    "                fractions = AAtypes(sequence)\n",
    "                \n",
    "                # Format each fraction to 3 decimal places\n",
    "                polar_str = \"%.2f\" % fractions[0]\n",
    "                small_str = \"%.2f\" % fractions[1]\n",
    "                hydro_str = \"%.2f\" % fractions[2]\n",
    "\n",
    "                # Write data to the file in CSV format\n",
    "                file.write(filename + \",\" + polar_str + \",\" + small_str + \",\" + hydro_str + \"\\n\")\n",
    "\n",
    "            except Exception:\n",
    "                # If an error occurs during calculation, add the file to problemlist\n",
    "                problemlist.append(filename)\n",
    "\n",
    "    # Return the list of problematic files\n",
    "    return problemlist\n",
    "\n"
   ]
  },
  {
   "cell_type": "code",
   "execution_count": 6,
   "metadata": {},
   "outputs": [
    {
     "name": "stdout",
     "output_type": "stream",
     "text": [
      "OK\n"
     ]
    }
   ],
   "source": [
    "# Test code\n",
    "import os\n",
    "import os.path\n",
    "for fname in [\"_Ptest123.fas\", \"_Ptest456.fas\"]:\n",
    "    with open(fname, \"wt\") as _OUTF:\n",
    "        _OUTF.write(\"> test\\n\")\n",
    "        _OUTF.write(\"TESTTESTTESTTESTTEST\\n\")\n",
    "_rv=AAtypetable(filelist=['_Ptest123.fas','_Ptest456.fas'], outputfile=\"_table_test789.txt\")\n",
    "_fe=os.path.isfile(\"_table_test789.txt\")\n",
    "assert _fe, \"Cannot find output file - has it been created?\"\n",
    "os.remove(\"_table_test789.txt\")\n",
    "os.remove(\"_Ptest123.fas\")\n",
    "os.remove(\"_Ptest456.fas\")\n",
    "assert type(_rv) is type([]), \"Function should return a list; it returns %r\" % _rv\n",
    "print(\"OK\")"
   ]
  },
  {
   "cell_type": "markdown",
   "metadata": {},
   "source": [
    "# Question 4: Clustering proteins based on aminoacid usage"
   ]
  },
  {
   "cell_type": "markdown",
   "metadata": {},
   "source": [
    "### Question 4.a: Computing the Manhattan distance"
   ]
  },
  {
   "cell_type": "markdown",
   "metadata": {},
   "source": [
    "Write a function called ```distance``` that takes two tuples of ```float``` of equal length as its arguments. The function should return the Manhattan distance between the two tuples, considered as vectors in a space of dimensionality equal to the length of the tuples. That is to say, it should compute the element by element difference between the two tuples, take the absolute value of that, and sum all the absolute values (see the equation [here](https://en.wikipedia.org/wiki/Taxicab_geometry#Formal_definition)). Your function should raise a ```DimensionalityException``` if the two tuples passed are not of the same length, or if they are both empty; otherwise it should return a ```float```."
   ]
  },
  {
   "cell_type": "code",
   "execution_count": 7,
   "metadata": {},
   "outputs": [],
   "source": [
    "# Run this cell to define the exception\n",
    "class DimensionalityException(Exception):\n",
    "    pass"
   ]
  },
  {
   "cell_type": "code",
   "execution_count": 8,
   "metadata": {},
   "outputs": [],
   "source": [
    "# Q4a_ans - Your answer here - do not edit this comment\n",
    "class DimensionalityException(Exception):\n",
    "    pass\n",
    "\n",
    "def distance(tuple1, tuple2):\n",
    "    # Check if both tuples are non-empty and of equal length\n",
    "    if len(tuple1) != len(tuple2) or not tuple1:\n",
    "        raise DimensionalityException(\"Tuples must be of the same length and non-empty.\")\n",
    "    \n",
    "    # Calculate Manhattan distance\n",
    "    manhattan_dist = sum(abs(x - y) for x, y in zip(tuple1, tuple2))  # Sum of absolute differences\n",
    "    \n",
    "    return manhattan_dist\n",
    "\n"
   ]
  },
  {
   "cell_type": "code",
   "execution_count": 9,
   "metadata": {},
   "outputs": [
    {
     "name": "stdout",
     "output_type": "stream",
     "text": [
      "OK\n"
     ]
    }
   ],
   "source": [
    "# Test code\n",
    "_dist=distance([1.0, 2.0], [1.5, -1.0])\n",
    "assert type(_dist) is type(0.0), \"Return value is not a float: %r\" % _dist\n",
    "print(\"OK\")"
   ]
  },
  {
   "cell_type": "markdown",
   "metadata": {},
   "source": [
    "### Question 4.b: Reading data in tabular format\n",
    "\n",
    "Write a function called ```readTable``` that takes a string called ```filename``` as its argument. The function should read from the file specified in the argument a CSV file formatted as described at the end of Question 3 (you do not necessarily have to answer Question 3 in order to do this; you can create one such file containing arbitrary values using an editor). The function should return a dictionary with the filenames as its keys; the value associated to each key should be a tuple of floats, containing in order the percentages of polar, small and hydrophobic AAs, as listed in the file. So for instance, if the CSV file contains the lines used as an example in Question 3, ```readTable``` should return a dictionary containing at least the following items: \n",
    "```\n",
    "{ \"Pxxx.fasta\": (0.52, 0.22, 0.33),  \"Qx3Z.fas\": (0.47, 0.35, 0.38),\n",
    "... }\n",
    "```\n"
   ]
  },
  {
   "cell_type": "code",
   "execution_count": 10,
   "metadata": {},
   "outputs": [],
   "source": [
    "# Q4b_ans - Your answer here - do not edit this comment\n",
    "def readTable(filename):\n",
    "    # Initialize dictionary for polar, small, and hydrophobic amino acids\n",
    "    polar_small_hydrophobic = {}\n",
    "    \n",
    "    # Open the file using a context manager for automatic closure\n",
    "    with open(filename, \"r\") as CSV:\n",
    "        CSV.readline()  # Skip the header line\n",
    "        for line in CSV:\n",
    "            line = line.strip()  # Remove trailing newline and extra whitespace\n",
    "            if line:  # Ensure the line is not empty\n",
    "                # Split the line by ,.\n",
    "                file_name, polar, small, hydro = line.split(\",\")\n",
    "                \n",
    "                # Add the parsed values to the dictionary as a tuple\n",
    "                polar_small_hydrophobic[file_name] = (float(polar), float(small), float(hydro))\n",
    "    \n",
    "    return polar_small_hydrophobic\n",
    "\n"
   ]
  },
  {
   "cell_type": "code",
   "execution_count": 11,
   "metadata": {},
   "outputs": [
    {
     "name": "stdout",
     "output_type": "stream",
     "text": [
      "OK\n"
     ]
    }
   ],
   "source": [
    "# Test code\n",
    "import os\n",
    "with open(\"_testTable123.tsv\", \"wt\") as OUTF:\n",
    "    OUTF.write(\"#Filename,Polar,Small,Hydrophobic\\n\")\n",
    "    OUTF.write(\"Pxxx.fas,0.52,0.22,0.33\\n\")\n",
    "    OUTF.write(\"Pyyy.fas,0.47,0.35,0.38\\n\")\n",
    "_tab=readTable(filename=\"_testTable123.tsv\")\n",
    "assert type(_tab) is type({}), \"Return value is not a dict: %r\" % _tab\n",
    "assert (\"Pxxx.fas\" in _tab) and (\"Pyyy.fas\" in _tab), \"Return dict missing keys\"\n",
    "os.remove(\"_testTable123.tsv\")\n",
    "print(\"OK\")"
   ]
  },
  {
   "cell_type": "markdown",
   "metadata": {},
   "source": [
    "### Question 4.c: Computing a distance matrix\n",
    "\n",
    "Write a function called ```distanceMatrix``` that takes as its argument two strings called ```inputfile``` and ```outputfile```, used to pass the names of the input and output file. The function should use ```readTable``` to read from the input file CSV data created as specified at the end of Question 3 (again, you do not necessarily have to answer Question 3 in order to do this; you can create a CSV file with made-up data using an editor). Suppose data for N proteins are read. Your function should then create an output TSV file containing a matrix of size NxN (plus one row and one column for labels). The rows and columns of the matrix should correspond to individual protein file names, so that each matrix entry corresponds to a pair of proteins, say Pxxx and Pyyy. Such entry should contain the Manhattan distance between the ```(polar, small, hydrophobic)``` tuples (considered as 3 dimensional vectors) corresponding to Pxxx and Pyyy. If done correctly, your matrix should be symmetric and have zeroes on the diagonal. Format the matrix with row and column labels as in the following 3-protein example (that contains random numbers and filenames):\n",
    "```\n",
    "# Filename      Pxxx.fas  Pyyy.fas  Pzzz.fas\n",
    "Pxxx.fas        0.00      2.34      1.51\n",
    "Pyyy.fas        2.34      0.00      1.82 \n",
    "Pzzz.fas        1.51      1.82      0.00\n",
    "\n",
    "```\n",
    "The exact alignment is not important, as long as the data are separated by tabs and the first line starts with a hash (```#```). Likewise, the order in which the proteins are listed is not important, provided the same order is used along the rows and along the columns. Do not add any quotes or other spurious characters. Your function should not return any value."
   ]
  },
  {
   "cell_type": "code",
   "execution_count": null,
   "metadata": {},
   "outputs": [],
   "source": [
    "# Q4c_ans - Your answer here - do not edit this comment\n",
    "\n"
   ]
  },
  {
   "cell_type": "code",
   "execution_count": null,
   "metadata": {},
   "outputs": [],
   "source": [
    "# Test code\n",
    "import os\n",
    "import os.path\n",
    "with open(\"_testTable123.tsv\", \"wt\") as OUTF:\n",
    "    OUTF.write(\"# Filename, Polar, Small, Hydrophobic\\n\")\n",
    "    OUTF.write(\"Pxxx.fas,0.52,0.22,0.33\\n\")\n",
    "    OUTF.write(\"Pyyy.fas,0.47,0.35,0.38\\n\")\n",
    "_rv=distanceMatrix(inputfile=\"_testTable123.tsv\", outputfile=\"_testTable123out.tsv\")\n",
    "_fe=os.path.isfile(\"_testTable123out.tsv\")\n",
    "assert _fe, \"Cannot find output file - has it been created?\"\n",
    "with open(\"_testTable123out.tsv\", \"rt\") as INF:\n",
    "    _fl=INF.readline()\n",
    "assert _fl[0]=='#', \"First line of output file does not start with a #\"\n",
    "os.remove(\"_testTable123.tsv\")\n",
    "os.remove(\"_testTable123out.tsv\")\n",
    "assert type(_rv) is type(None),\"Function should not return any value; it returns %r\" % _rv\n",
    "print(\"OK\")"
   ]
  },
  {
   "cell_type": "markdown",
   "metadata": {},
   "source": [
    "### An application of this type of analysis"
   ]
  },
  {
   "cell_type": "markdown",
   "metadata": {},
   "source": [
    "Now that you have this code running, try downloading a few FASTA sequences for the [antifreeze proteins](https://pdb101.rcsb.org/motm/120) of cold water fish. Then download the sequences of other families of related proteins (eg Hemoglobin, Insulin and P53) from other species. Process these sequences according to Questions 3 and 4. Have a look at the resulting distance matrix - is any of these groups of proteins characterised by a distinctive pattern of usage of aminoacids? NOTE: no marks are assigned for this section."
   ]
  },
  {
   "cell_type": "markdown",
   "metadata": {
    "collapsed": true,
    "jupyter": {
     "outputs_hidden": true
    }
   },
   "source": [
    "## Examiners\n",
    "\n",
    "Dr Fabrizio Smeraldi *(f.smeraldi@qmul.ac.uk)*; Prof Conrad Bessant *(c.bessant@qmul.ac.uk)*"
   ]
  },
  {
   "cell_type": "code",
   "execution_count": null,
   "metadata": {},
   "outputs": [],
   "source": []
  }
 ],
 "metadata": {
  "kernelspec": {
   "display_name": "Python 3 (ipykernel)",
   "language": "python",
   "name": "python3"
  },
  "language_info": {
   "codemirror_mode": {
    "name": "ipython",
    "version": 3
   },
   "file_extension": ".py",
   "mimetype": "text/x-python",
   "name": "python",
   "nbconvert_exporter": "python",
   "pygments_lexer": "ipython3",
   "version": "3.11.9"
  }
 },
 "nbformat": 4,
 "nbformat_minor": 4
}
